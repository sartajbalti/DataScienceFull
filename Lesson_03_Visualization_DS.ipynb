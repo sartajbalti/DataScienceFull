{
 "cells": [
  {
   "cell_type": "markdown",
   "metadata": {},
   "source": [
    "## Data Visualization"
   ]
  },
  {
   "cell_type": "code",
   "execution_count": 11,
   "metadata": {},
   "outputs": [],
   "source": [
    "# Data Quality , Data Exploration, Data Presentation \n",
    "import pandas as pd \n",
    "d = {'x': [1.1057224906989078,\n",
    "1.1581928066211546,\n",
    "1.0680224765231616,\n",
    "1.1312905403855564,\n",
    "1.1259971127009032,\n",
    "1.0373317792002021,\n",
    "1.0516697961103307,\n",
    "0.9716991014713774,\n",
    "1.1029141120709336,\n",
    "1.164160925271062,\n",
    "1.1614637769319642,\n",
    "1.08016071758514,\n",
    "0.9960444530422095,\n",
    "1.14330522283463,\n",
    "1.0629491784812481,\n",
    "1.1492520874127639,\n",
    "1.190104525541554,\n",
    "1.0264984484622326,\n",
    "1.1100146562775217,\n",
    "1.0777410976503732], 'y': [1.3209454347389598\n",
    ",1.480131190288406\n",
    ",1.1734791469641153\n",
    ",1.294706236555472\n",
    ",1.2930236850526469\n",
    ",0.9773932312458836\n",
    ",1.0407979837411607\n",
    ",0.9776039690830134\n",
    ",1.127955685769534\n",
    ",1.4310700689516431\n",
    ",1.3444810317564895\n",
    ",1.1911592916370615\n",
    ",0.9973081931526515\n",
    ",1.4128500629929692\n",
    ",1.1397614095530044\n",
    ",1.4558862940519979\n",
    ",1.4894068727254215\n",
    ",1.153030596953326\n",
    ",1.3295864287214232\n",
    ",1.2779946572190102]}"
   ]
  },
  {
   "cell_type": "code",
   "execution_count": 12,
   "metadata": {},
   "outputs": [],
   "source": [
    "data = pd.DataFrame(data=d)"
   ]
  },
  {
   "cell_type": "code",
   "execution_count": 16,
   "metadata": {},
   "outputs": [
    {
     "data": {
      "text/html": [
       "<div>\n",
       "<style scoped>\n",
       "    .dataframe tbody tr th:only-of-type {\n",
       "        vertical-align: middle;\n",
       "    }\n",
       "\n",
       "    .dataframe tbody tr th {\n",
       "        vertical-align: top;\n",
       "    }\n",
       "\n",
       "    .dataframe thead th {\n",
       "        text-align: right;\n",
       "    }\n",
       "</style>\n",
       "<table border=\"1\" class=\"dataframe\">\n",
       "  <thead>\n",
       "    <tr style=\"text-align: right;\">\n",
       "      <th></th>\n",
       "      <th>x</th>\n",
       "      <th>y</th>\n",
       "    </tr>\n",
       "  </thead>\n",
       "  <tbody>\n",
       "    <tr>\n",
       "      <th>0</th>\n",
       "      <td>1.105722</td>\n",
       "      <td>1.320945</td>\n",
       "    </tr>\n",
       "    <tr>\n",
       "      <th>1</th>\n",
       "      <td>1.158193</td>\n",
       "      <td>1.480131</td>\n",
       "    </tr>\n",
       "    <tr>\n",
       "      <th>2</th>\n",
       "      <td>1.068022</td>\n",
       "      <td>1.173479</td>\n",
       "    </tr>\n",
       "    <tr>\n",
       "      <th>3</th>\n",
       "      <td>1.131291</td>\n",
       "      <td>1.294706</td>\n",
       "    </tr>\n",
       "    <tr>\n",
       "      <th>4</th>\n",
       "      <td>1.125997</td>\n",
       "      <td>1.293024</td>\n",
       "    </tr>\n",
       "    <tr>\n",
       "      <th>5</th>\n",
       "      <td>1.037332</td>\n",
       "      <td>0.977393</td>\n",
       "    </tr>\n",
       "    <tr>\n",
       "      <th>6</th>\n",
       "      <td>1.051670</td>\n",
       "      <td>1.040798</td>\n",
       "    </tr>\n",
       "    <tr>\n",
       "      <th>7</th>\n",
       "      <td>0.971699</td>\n",
       "      <td>0.977604</td>\n",
       "    </tr>\n",
       "    <tr>\n",
       "      <th>8</th>\n",
       "      <td>1.102914</td>\n",
       "      <td>1.127956</td>\n",
       "    </tr>\n",
       "    <tr>\n",
       "      <th>9</th>\n",
       "      <td>1.164161</td>\n",
       "      <td>1.431070</td>\n",
       "    </tr>\n",
       "    <tr>\n",
       "      <th>10</th>\n",
       "      <td>1.161464</td>\n",
       "      <td>1.344481</td>\n",
       "    </tr>\n",
       "    <tr>\n",
       "      <th>11</th>\n",
       "      <td>1.080161</td>\n",
       "      <td>1.191159</td>\n",
       "    </tr>\n",
       "    <tr>\n",
       "      <th>12</th>\n",
       "      <td>0.996044</td>\n",
       "      <td>0.997308</td>\n",
       "    </tr>\n",
       "    <tr>\n",
       "      <th>13</th>\n",
       "      <td>1.143305</td>\n",
       "      <td>1.412850</td>\n",
       "    </tr>\n",
       "    <tr>\n",
       "      <th>14</th>\n",
       "      <td>1.062949</td>\n",
       "      <td>1.139761</td>\n",
       "    </tr>\n",
       "    <tr>\n",
       "      <th>15</th>\n",
       "      <td>1.149252</td>\n",
       "      <td>1.455886</td>\n",
       "    </tr>\n",
       "    <tr>\n",
       "      <th>16</th>\n",
       "      <td>1.190105</td>\n",
       "      <td>1.489407</td>\n",
       "    </tr>\n",
       "    <tr>\n",
       "      <th>17</th>\n",
       "      <td>1.026498</td>\n",
       "      <td>1.153031</td>\n",
       "    </tr>\n",
       "    <tr>\n",
       "      <th>18</th>\n",
       "      <td>1.110015</td>\n",
       "      <td>1.329586</td>\n",
       "    </tr>\n",
       "    <tr>\n",
       "      <th>19</th>\n",
       "      <td>1.077741</td>\n",
       "      <td>1.277995</td>\n",
       "    </tr>\n",
       "  </tbody>\n",
       "</table>\n",
       "</div>"
      ],
      "text/plain": [
       "           x         y\n",
       "0   1.105722  1.320945\n",
       "1   1.158193  1.480131\n",
       "2   1.068022  1.173479\n",
       "3   1.131291  1.294706\n",
       "4   1.125997  1.293024\n",
       "5   1.037332  0.977393\n",
       "6   1.051670  1.040798\n",
       "7   0.971699  0.977604\n",
       "8   1.102914  1.127956\n",
       "9   1.164161  1.431070\n",
       "10  1.161464  1.344481\n",
       "11  1.080161  1.191159\n",
       "12  0.996044  0.997308\n",
       "13  1.143305  1.412850\n",
       "14  1.062949  1.139761\n",
       "15  1.149252  1.455886\n",
       "16  1.190105  1.489407\n",
       "17  1.026498  1.153031\n",
       "18  1.110015  1.329586\n",
       "19  1.077741  1.277995"
      ]
     },
     "execution_count": 16,
     "metadata": {},
     "output_type": "execute_result"
    }
   ],
   "source": [
    "data"
   ]
  },
  {
   "cell_type": "code",
   "execution_count": 14,
   "metadata": {},
   "outputs": [],
   "source": [
    "import matplotlib.pyplot as plt \n"
   ]
  },
  {
   "cell_type": "code",
   "execution_count": 15,
   "metadata": {},
   "outputs": [
    {
     "data": {
      "text/plain": [
       "<matplotlib.axes._subplots.AxesSubplot at 0x7f974a938f50>"
      ]
     },
     "execution_count": 15,
     "metadata": {},
     "output_type": "execute_result"
    },
    {
     "data": {
      "image/png": "[encoded data removed]",
      "text/plain": [
       "<Figure size 432x288 with 1 Axes>"
      ]
     },
     "metadata": {
      "needs_background": "light"
     },
     "output_type": "display_data"
    }
   ],
   "source": [
    "data.plot.scatter(x='x',y='y')"
   ]
  },
  {
   "cell_type": "code",
   "execution_count": 18,
   "metadata": {},
   "outputs": [],
   "source": [
    "df = pd.read_csv('sample_height.csv')"
   ]
  },
  {
   "cell_type": "code",
   "execution_count": 19,
   "metadata": {},
   "outputs": [
    {
     "data": {
      "text/html": [
       "<div>\n",
       "<style scoped>\n",
       "    .dataframe tbody tr th:only-of-type {\n",
       "        vertical-align: middle;\n",
       "    }\n",
       "\n",
       "    .dataframe tbody tr th {\n",
       "        vertical-align: top;\n",
       "    }\n",
       "\n",
       "    .dataframe thead th {\n",
       "        text-align: right;\n",
       "    }\n",
       "</style>\n",
       "<table border=\"1\" class=\"dataframe\">\n",
       "  <thead>\n",
       "    <tr style=\"text-align: right;\">\n",
       "      <th></th>\n",
       "      <th>height</th>\n",
       "    </tr>\n",
       "  </thead>\n",
       "  <tbody>\n",
       "    <tr>\n",
       "      <th>0</th>\n",
       "      <td>129.150282</td>\n",
       "    </tr>\n",
       "    <tr>\n",
       "      <th>1</th>\n",
       "      <td>163.277930</td>\n",
       "    </tr>\n",
       "    <tr>\n",
       "      <th>2</th>\n",
       "      <td>173.965641</td>\n",
       "    </tr>\n",
       "    <tr>\n",
       "      <th>3</th>\n",
       "      <td>168.933825</td>\n",
       "    </tr>\n",
       "    <tr>\n",
       "      <th>4</th>\n",
       "      <td>171.075462</td>\n",
       "    </tr>\n",
       "  </tbody>\n",
       "</table>\n",
       "</div>"
      ],
      "text/plain": [
       "       height\n",
       "0  129.150282\n",
       "1  163.277930\n",
       "2  173.965641\n",
       "3  168.933825\n",
       "4  171.075462"
      ]
     },
     "execution_count": 19,
     "metadata": {},
     "output_type": "execute_result"
    }
   ],
   "source": [
    "df.head()"
   ]
  },
  {
   "cell_type": "code",
   "execution_count": 20,
   "metadata": {},
   "outputs": [
    {
     "data": {
      "text/plain": [
       "height    0\n",
       "dtype: int64"
      ]
     },
     "execution_count": 20,
     "metadata": {},
     "output_type": "execute_result"
    }
   ],
   "source": [
    "df.isna().sum()"
   ]
  },
  {
   "cell_type": "code",
   "execution_count": 21,
   "metadata": {},
   "outputs": [
    {
     "data": {
      "text/plain": [
       "<matplotlib.axes._subplots.AxesSubplot at 0x7f9749adbe10>"
      ]
     },
     "execution_count": 21,
     "metadata": {},
     "output_type": "execute_result"
    },
    {
     "data": {
      "image/png": "[encoded data removed]",
      "text/plain": [
       "<Figure size 432x288 with 1 Axes>"
      ]
     },
     "metadata": {
      "needs_background": "light"
     },
     "output_type": "display_data"
    }
   ],
   "source": [
    "df.plot.hist()"
   ]
  },
  {
   "cell_type": "code",
   "execution_count": 22,
   "metadata": {},
   "outputs": [
    {
     "data": {
      "text/html": [
       "<div>\n",
       "<style scoped>\n",
       "    .dataframe tbody tr th:only-of-type {\n",
       "        vertical-align: middle;\n",
       "    }\n",
       "\n",
       "    .dataframe tbody tr th {\n",
       "        vertical-align: top;\n",
       "    }\n",
       "\n",
       "    .dataframe thead th {\n",
       "        text-align: right;\n",
       "    }\n",
       "</style>\n",
       "<table border=\"1\" class=\"dataframe\">\n",
       "  <thead>\n",
       "    <tr style=\"text-align: right;\">\n",
       "      <th></th>\n",
       "      <th>height</th>\n",
       "    </tr>\n",
       "  </thead>\n",
       "  <tbody>\n",
       "    <tr>\n",
       "      <th>17</th>\n",
       "      <td>1.913196</td>\n",
       "    </tr>\n",
       "    <tr>\n",
       "      <th>22</th>\n",
       "      <td>1.629159</td>\n",
       "    </tr>\n",
       "    <tr>\n",
       "      <th>23</th>\n",
       "      <td>1.753424</td>\n",
       "    </tr>\n",
       "    <tr>\n",
       "      <th>27</th>\n",
       "      <td>1.854795</td>\n",
       "    </tr>\n",
       "    <tr>\n",
       "      <th>50</th>\n",
       "      <td>1.914587</td>\n",
       "    </tr>\n",
       "    <tr>\n",
       "      <th>60</th>\n",
       "      <td>1.642295</td>\n",
       "    </tr>\n",
       "    <tr>\n",
       "      <th>73</th>\n",
       "      <td>1.804588</td>\n",
       "    </tr>\n",
       "    <tr>\n",
       "      <th>82</th>\n",
       "      <td>1.573621</td>\n",
       "    </tr>\n",
       "    <tr>\n",
       "      <th>91</th>\n",
       "      <td>1.550227</td>\n",
       "    </tr>\n",
       "    <tr>\n",
       "      <th>94</th>\n",
       "      <td>1.660700</td>\n",
       "    </tr>\n",
       "    <tr>\n",
       "      <th>97</th>\n",
       "      <td>1.675962</td>\n",
       "    </tr>\n",
       "    <tr>\n",
       "      <th>98</th>\n",
       "      <td>1.712382</td>\n",
       "    </tr>\n",
       "  </tbody>\n",
       "</table>\n",
       "</div>"
      ],
      "text/plain": [
       "      height\n",
       "17  1.913196\n",
       "22  1.629159\n",
       "23  1.753424\n",
       "27  1.854795\n",
       "50  1.914587\n",
       "60  1.642295\n",
       "73  1.804588\n",
       "82  1.573621\n",
       "91  1.550227\n",
       "94  1.660700\n",
       "97  1.675962\n",
       "98  1.712382"
      ]
     },
     "execution_count": 22,
     "metadata": {},
     "output_type": "execute_result"
    }
   ],
   "source": [
    "df[df['height']<50]"
   ]
  },
  {
   "cell_type": "code",
   "execution_count": 23,
   "metadata": {},
   "outputs": [],
   "source": [
    "# outliers\n",
    "df = pd.read_csv('sample_age.csv')"
   ]
  },
  {
   "cell_type": "code",
   "execution_count": 24,
   "metadata": {},
   "outputs": [
    {
     "data": {
      "text/html": [
       "<div>\n",
       "<style scoped>\n",
       "    .dataframe tbody tr th:only-of-type {\n",
       "        vertical-align: middle;\n",
       "    }\n",
       "\n",
       "    .dataframe tbody tr th {\n",
       "        vertical-align: top;\n",
       "    }\n",
       "\n",
       "    .dataframe thead th {\n",
       "        text-align: right;\n",
       "    }\n",
       "</style>\n",
       "<table border=\"1\" class=\"dataframe\">\n",
       "  <thead>\n",
       "    <tr style=\"text-align: right;\">\n",
       "      <th></th>\n",
       "      <th>age</th>\n",
       "    </tr>\n",
       "  </thead>\n",
       "  <tbody>\n",
       "    <tr>\n",
       "      <th>0</th>\n",
       "      <td>30.175921</td>\n",
       "    </tr>\n",
       "    <tr>\n",
       "      <th>1</th>\n",
       "      <td>32.002551</td>\n",
       "    </tr>\n",
       "    <tr>\n",
       "      <th>2</th>\n",
       "      <td>44.518393</td>\n",
       "    </tr>\n",
       "    <tr>\n",
       "      <th>3</th>\n",
       "      <td>56.247751</td>\n",
       "    </tr>\n",
       "    <tr>\n",
       "      <th>4</th>\n",
       "      <td>33.111986</td>\n",
       "    </tr>\n",
       "  </tbody>\n",
       "</table>\n",
       "</div>"
      ],
      "text/plain": [
       "         age\n",
       "0  30.175921\n",
       "1  32.002551\n",
       "2  44.518393\n",
       "3  56.247751\n",
       "4  33.111986"
      ]
     },
     "execution_count": 24,
     "metadata": {},
     "output_type": "execute_result"
    }
   ],
   "source": [
    "df.head()"
   ]
  },
  {
   "cell_type": "code",
   "execution_count": 25,
   "metadata": {},
   "outputs": [
    {
     "data": {
      "text/html": [
       "<div>\n",
       "<style scoped>\n",
       "    .dataframe tbody tr th:only-of-type {\n",
       "        vertical-align: middle;\n",
       "    }\n",
       "\n",
       "    .dataframe tbody tr th {\n",
       "        vertical-align: top;\n",
       "    }\n",
       "\n",
       "    .dataframe thead th {\n",
       "        text-align: right;\n",
       "    }\n",
       "</style>\n",
       "<table border=\"1\" class=\"dataframe\">\n",
       "  <thead>\n",
       "    <tr style=\"text-align: right;\">\n",
       "      <th></th>\n",
       "      <th>age</th>\n",
       "    </tr>\n",
       "  </thead>\n",
       "  <tbody>\n",
       "    <tr>\n",
       "      <th>count</th>\n",
       "      <td>100.000000</td>\n",
       "    </tr>\n",
       "    <tr>\n",
       "      <th>mean</th>\n",
       "      <td>42.305997</td>\n",
       "    </tr>\n",
       "    <tr>\n",
       "      <th>std</th>\n",
       "      <td>29.229478</td>\n",
       "    </tr>\n",
       "    <tr>\n",
       "      <th>min</th>\n",
       "      <td>18.273781</td>\n",
       "    </tr>\n",
       "    <tr>\n",
       "      <th>25%</th>\n",
       "      <td>31.871113</td>\n",
       "    </tr>\n",
       "    <tr>\n",
       "      <th>50%</th>\n",
       "      <td>39.376896</td>\n",
       "    </tr>\n",
       "    <tr>\n",
       "      <th>75%</th>\n",
       "      <td>47.779303</td>\n",
       "    </tr>\n",
       "    <tr>\n",
       "      <th>max</th>\n",
       "      <td>314.000000</td>\n",
       "    </tr>\n",
       "  </tbody>\n",
       "</table>\n",
       "</div>"
      ],
      "text/plain": [
       "              age\n",
       "count  100.000000\n",
       "mean    42.305997\n",
       "std     29.229478\n",
       "min     18.273781\n",
       "25%     31.871113\n",
       "50%     39.376896\n",
       "75%     47.779303\n",
       "max    314.000000"
      ]
     },
     "execution_count": 25,
     "metadata": {},
     "output_type": "execute_result"
    }
   ],
   "source": [
    "df.describe()"
   ]
  },
  {
   "cell_type": "code",
   "execution_count": 26,
   "metadata": {},
   "outputs": [
    {
     "data": {
      "text/plain": [
       "<matplotlib.axes._subplots.AxesSubplot at 0x7f974b1cfc90>"
      ]
     },
     "execution_count": 26,
     "metadata": {},
     "output_type": "execute_result"
    },
    {
     "data": {
      "image/png": "[encoded data removed]",
      "text/plain": [
       "<Figure size 432x288 with 1 Axes>"
      ]
     },
     "metadata": {
      "needs_background": "light"
     },
     "output_type": "display_data"
    }
   ],
   "source": [
    "df.plot.hist()"
   ]
  },
  {
   "cell_type": "code",
   "execution_count": 27,
   "metadata": {},
   "outputs": [
    {
     "data": {
      "text/html": [
       "<div>\n",
       "<style scoped>\n",
       "    .dataframe tbody tr th:only-of-type {\n",
       "        vertical-align: middle;\n",
       "    }\n",
       "\n",
       "    .dataframe tbody tr th {\n",
       "        vertical-align: top;\n",
       "    }\n",
       "\n",
       "    .dataframe thead th {\n",
       "        text-align: right;\n",
       "    }\n",
       "</style>\n",
       "<table border=\"1\" class=\"dataframe\">\n",
       "  <thead>\n",
       "    <tr style=\"text-align: right;\">\n",
       "      <th></th>\n",
       "      <th>age</th>\n",
       "    </tr>\n",
       "  </thead>\n",
       "  <tbody>\n",
       "    <tr>\n",
       "      <th>31</th>\n",
       "      <td>314.0</td>\n",
       "    </tr>\n",
       "  </tbody>\n",
       "</table>\n",
       "</div>"
      ],
      "text/plain": [
       "      age\n",
       "31  314.0"
      ]
     },
     "execution_count": 27,
     "metadata": {},
     "output_type": "execute_result"
    }
   ],
   "source": [
    "df[df['age']>150]"
   ]
  },
  {
   "cell_type": "code",
   "execution_count": 33,
   "metadata": {},
   "outputs": [],
   "source": [
    "df = pd.read_csv('worldbank.csv',index_col = 0)"
   ]
  },
  {
   "cell_type": "code",
   "execution_count": 34,
   "metadata": {},
   "outputs": [
    {
     "data": {
      "text/html": [
       "<div>\n",
       "<style scoped>\n",
       "    .dataframe tbody tr th:only-of-type {\n",
       "        vertical-align: middle;\n",
       "    }\n",
       "\n",
       "    .dataframe tbody tr th {\n",
       "        vertical-align: top;\n",
       "    }\n",
       "\n",
       "    .dataframe thead th {\n",
       "        text-align: right;\n",
       "    }\n",
       "</style>\n",
       "<table border=\"1\" class=\"dataframe\">\n",
       "  <thead>\n",
       "    <tr style=\"text-align: right;\">\n",
       "      <th></th>\n",
       "      <th>ABW</th>\n",
       "      <th>AFE</th>\n",
       "      <th>AFG</th>\n",
       "      <th>AFW</th>\n",
       "      <th>AGO</th>\n",
       "      <th>ALB</th>\n",
       "      <th>AND</th>\n",
       "      <th>ARB</th>\n",
       "      <th>ARE</th>\n",
       "      <th>ARG</th>\n",
       "      <th>...</th>\n",
       "      <th>VIR</th>\n",
       "      <th>VNM</th>\n",
       "      <th>VUT</th>\n",
       "      <th>WLD</th>\n",
       "      <th>WSM</th>\n",
       "      <th>XKX</th>\n",
       "      <th>YEM</th>\n",
       "      <th>ZAF</th>\n",
       "      <th>ZMB</th>\n",
       "      <th>ZWE</th>\n",
       "    </tr>\n",
       "    <tr>\n",
       "      <th>Year</th>\n",
       "      <th></th>\n",
       "      <th></th>\n",
       "      <th></th>\n",
       "      <th></th>\n",
       "      <th></th>\n",
       "      <th></th>\n",
       "      <th></th>\n",
       "      <th></th>\n",
       "      <th></th>\n",
       "      <th></th>\n",
       "      <th></th>\n",
       "      <th></th>\n",
       "      <th></th>\n",
       "      <th></th>\n",
       "      <th></th>\n",
       "      <th></th>\n",
       "      <th></th>\n",
       "      <th></th>\n",
       "      <th></th>\n",
       "      <th></th>\n",
       "      <th></th>\n",
       "    </tr>\n",
       "  </thead>\n",
       "  <tbody>\n",
       "    <tr>\n",
       "      <th>1960</th>\n",
       "      <td>204.631696</td>\n",
       "      <td>0.906060</td>\n",
       "      <td>0.046057</td>\n",
       "      <td>0.090880</td>\n",
       "      <td>0.100835</td>\n",
       "      <td>1.258195</td>\n",
       "      <td>NaN</td>\n",
       "      <td>0.609268</td>\n",
       "      <td>0.119037</td>\n",
       "      <td>2.383343</td>\n",
       "      <td>...</td>\n",
       "      <td>NaN</td>\n",
       "      <td>0.181947</td>\n",
       "      <td>NaN</td>\n",
       "      <td>3.121158</td>\n",
       "      <td>0.135031</td>\n",
       "      <td>NaN</td>\n",
       "      <td>0.011038</td>\n",
       "      <td>5.727223</td>\n",
       "      <td>NaN</td>\n",
       "      <td>NaN</td>\n",
       "    </tr>\n",
       "    <tr>\n",
       "      <th>1961</th>\n",
       "      <td>208.837879</td>\n",
       "      <td>0.922474</td>\n",
       "      <td>0.053589</td>\n",
       "      <td>0.095283</td>\n",
       "      <td>0.082204</td>\n",
       "      <td>1.374186</td>\n",
       "      <td>NaN</td>\n",
       "      <td>0.662618</td>\n",
       "      <td>0.109136</td>\n",
       "      <td>2.458551</td>\n",
       "      <td>...</td>\n",
       "      <td>NaN</td>\n",
       "      <td>0.183099</td>\n",
       "      <td>NaN</td>\n",
       "      <td>3.068090</td>\n",
       "      <td>0.163542</td>\n",
       "      <td>NaN</td>\n",
       "      <td>0.013599</td>\n",
       "      <td>5.832621</td>\n",
       "      <td>NaN</td>\n",
       "      <td>NaN</td>\n",
       "    </tr>\n",
       "    <tr>\n",
       "      <th>1962</th>\n",
       "      <td>226.081890</td>\n",
       "      <td>0.930816</td>\n",
       "      <td>0.073721</td>\n",
       "      <td>0.096612</td>\n",
       "      <td>0.210533</td>\n",
       "      <td>1.439956</td>\n",
       "      <td>NaN</td>\n",
       "      <td>0.727117</td>\n",
       "      <td>0.163542</td>\n",
       "      <td>2.538447</td>\n",
       "      <td>...</td>\n",
       "      <td>NaN</td>\n",
       "      <td>0.217694</td>\n",
       "      <td>0.595002</td>\n",
       "      <td>3.114839</td>\n",
       "      <td>0.158377</td>\n",
       "      <td>NaN</td>\n",
       "      <td>0.012729</td>\n",
       "      <td>5.887168</td>\n",
       "      <td>NaN</td>\n",
       "      <td>NaN</td>\n",
       "    </tr>\n",
       "    <tr>\n",
       "      <th>1963</th>\n",
       "      <td>214.785217</td>\n",
       "      <td>0.940570</td>\n",
       "      <td>0.074161</td>\n",
       "      <td>0.112376</td>\n",
       "      <td>0.202739</td>\n",
       "      <td>1.181681</td>\n",
       "      <td>NaN</td>\n",
       "      <td>0.853116</td>\n",
       "      <td>0.175833</td>\n",
       "      <td>2.330685</td>\n",
       "      <td>...</td>\n",
       "      <td>NaN</td>\n",
       "      <td>0.196997</td>\n",
       "      <td>0.471849</td>\n",
       "      <td>3.221195</td>\n",
       "      <td>0.184037</td>\n",
       "      <td>NaN</td>\n",
       "      <td>0.014518</td>\n",
       "      <td>5.961337</td>\n",
       "      <td>NaN</td>\n",
       "      <td>NaN</td>\n",
       "    </tr>\n",
       "    <tr>\n",
       "      <th>1964</th>\n",
       "      <td>207.626699</td>\n",
       "      <td>0.996033</td>\n",
       "      <td>0.086174</td>\n",
       "      <td>0.133258</td>\n",
       "      <td>0.213562</td>\n",
       "      <td>1.111742</td>\n",
       "      <td>NaN</td>\n",
       "      <td>0.972381</td>\n",
       "      <td>0.132815</td>\n",
       "      <td>2.553442</td>\n",
       "      <td>...</td>\n",
       "      <td>NaN</td>\n",
       "      <td>0.209870</td>\n",
       "      <td>0.864427</td>\n",
       "      <td>3.324046</td>\n",
       "      <td>0.208106</td>\n",
       "      <td>NaN</td>\n",
       "      <td>0.017550</td>\n",
       "      <td>6.332343</td>\n",
       "      <td>0.946606</td>\n",
       "      <td>1.034904</td>\n",
       "    </tr>\n",
       "  </tbody>\n",
       "</table>\n",
       "<p>5 rows × 266 columns</p>\n",
       "</div>"
      ],
      "text/plain": [
       "             ABW       AFE       AFG       AFW       AGO       ALB  AND  \\\n",
       "Year                                                                      \n",
       "1960  204.631696  0.906060  0.046057  0.090880  0.100835  1.258195  NaN   \n",
       "1961  208.837879  0.922474  0.053589  0.095283  0.082204  1.374186  NaN   \n",
       "1962  226.081890  0.930816  0.073721  0.096612  0.210533  1.439956  NaN   \n",
       "1963  214.785217  0.940570  0.074161  0.112376  0.202739  1.181681  NaN   \n",
       "1964  207.626699  0.996033  0.086174  0.133258  0.213562  1.111742  NaN   \n",
       "\n",
       "           ARB       ARE       ARG  ...  VIR       VNM       VUT       WLD  \\\n",
       "Year                                ...                                      \n",
       "1960  0.609268  0.119037  2.383343  ...  NaN  0.181947       NaN  3.121158   \n",
       "1961  0.662618  0.109136  2.458551  ...  NaN  0.183099       NaN  3.068090   \n",
       "1962  0.727117  0.163542  2.538447  ...  NaN  0.217694  0.595002  3.114839   \n",
       "1963  0.853116  0.175833  2.330685  ...  NaN  0.196997  0.471849  3.221195   \n",
       "1964  0.972381  0.132815  2.553442  ...  NaN  0.209870  0.864427  3.324046   \n",
       "\n",
       "           WSM  XKX       YEM       ZAF       ZMB       ZWE  \n",
       "Year                                                         \n",
       "1960  0.135031  NaN  0.011038  5.727223       NaN       NaN  \n",
       "1961  0.163542  NaN  0.013599  5.832621       NaN       NaN  \n",
       "1962  0.158377  NaN  0.012729  5.887168       NaN       NaN  \n",
       "1963  0.184037  NaN  0.014518  5.961337       NaN       NaN  \n",
       "1964  0.208106  NaN  0.017550  6.332343  0.946606  1.034904  \n",
       "\n",
       "[5 rows x 266 columns]"
      ]
     },
     "execution_count": 34,
     "metadata": {},
     "output_type": "execute_result"
    }
   ],
   "source": [
    "df.head()"
   ]
  },
  {
   "cell_type": "code",
   "execution_count": 30,
   "metadata": {},
   "outputs": [
    {
     "data": {
      "text/plain": [
       "Year     0\n",
       "ABW     29\n",
       "AFE      0\n",
       "AFG      0\n",
       "AFW      0\n",
       "        ..\n",
       "XKX     59\n",
       "YEM      0\n",
       "ZAF      0\n",
       "ZMB      4\n",
       "ZWE      4\n",
       "Length: 267, dtype: int64"
      ]
     },
     "execution_count": 30,
     "metadata": {},
     "output_type": "execute_result"
    }
   ],
   "source": [
    "df.isna().sum()"
   ]
  },
  {
   "cell_type": "code",
   "execution_count": 35,
   "metadata": {},
   "outputs": [
    {
     "data": {
      "text/plain": [
       "<matplotlib.axes._subplots.AxesSubplot at 0x7f97499bc890>"
      ]
     },
     "execution_count": 35,
     "metadata": {},
     "output_type": "execute_result"
    },
    {
     "data": {
      "image/png": "[encoded data removed]",
      "text/plain": [
       "<Figure size 432x288 with 1 Axes>"
      ]
     },
     "metadata": {
      "needs_background": "light"
     },
     "output_type": "display_data"
    }
   ],
   "source": [
    "df['USA'].plot()"
   ]
  },
  {
   "cell_type": "code",
   "execution_count": 42,
   "metadata": {},
   "outputs": [
    {
     "data": {
      "image/png": "[encoded data removed]",
      "text/plain": [
       "<Figure size 432x288 with 1 Axes>"
      ]
     },
     "metadata": {
      "needs_background": "light"
     },
     "output_type": "display_data"
    }
   ],
   "source": [
    "ax = df['USA'].plot(title='CO2 per capita USA')\n",
    "ax.set_ylabel('CO2 per capita')\n",
    "plt.show()"
   ]
  },
  {
   "cell_type": "code",
   "execution_count": 46,
   "metadata": {},
   "outputs": [
    {
     "data": {
      "image/png": "[encoded data removed]",
      "text/plain": [
       "<Figure size 432x288 with 1 Axes>"
      ]
     },
     "metadata": {
      "needs_background": "light"
     },
     "output_type": "display_data"
    }
   ],
   "source": [
    "ax = df[['USA','WLD']].plot(ylim=0)"
   ]
  },
  {
   "cell_type": "code",
   "execution_count": 51,
   "metadata": {},
   "outputs": [
    {
     "data": {
      "image/png": "[encoded data removed]",
      "text/plain": [
       "<Figure size 1440x432 with 1 Axes>"
      ]
     },
     "metadata": {
      "needs_background": "light"
     },
     "output_type": "display_data"
    }
   ],
   "source": [
    "ax = df[['USA','DNK','WLD','AFG','PAK']].plot(ylim=0,figsize=(20,6))"
   ]
  },
  {
   "cell_type": "code",
   "execution_count": 54,
   "metadata": {},
   "outputs": [
    {
     "data": {
      "image/png": "[encoded data removed]",
      "text/plain": [
       "<Figure size 1440x432 with 1 Axes>"
      ]
     },
     "metadata": {
      "needs_background": "light"
     },
     "output_type": "display_data"
    }
   ],
   "source": [
    "ax = df[['AFG','PAK']].plot.bar(ylim=0,figsize=(20,6))"
   ]
  },
  {
   "cell_type": "code",
   "execution_count": 55,
   "metadata": {},
   "outputs": [
    {
     "data": {
      "image/png": "[encoded data removed]",
      "text/plain": [
       "<Figure size 1440x432 with 1 Axes>"
      ]
     },
     "metadata": {
      "needs_background": "light"
     },
     "output_type": "display_data"
    }
   ],
   "source": [
    "ax = df[['AFG','PAK']].loc[2000:].plot.bar(ylim=0,figsize=(20,6))"
   ]
  },
  {
   "cell_type": "code",
   "execution_count": 58,
   "metadata": {},
   "outputs": [
    {
     "data": {
      "image/png": "[encoded data removed]",
      "text/plain": [
       "<Figure size 1440x432 with 1 Axes>"
      ]
     },
     "metadata": {
      "needs_background": "light"
     },
     "output_type": "display_data"
    }
   ],
   "source": [
    "ax = df[['USA','DNK','AFG','PAK']].plot.hist(ylim=0,figsize=(20,6))"
   ]
  },
  {
   "cell_type": "code",
   "execution_count": 88,
   "metadata": {},
   "outputs": [
    {
     "data": {
      "image/png": "[encoded data removed]",
      "text/plain": [
       "<Figure size 432x288 with 1 Axes>"
      ]
     },
     "metadata": {},
     "output_type": "display_data"
    }
   ],
   "source": [
    "ax = df[['PAK']].loc[2010:].plot.pie(subplots=True, autopct='%1.1f%%')"
   ]
  },
  {
   "cell_type": "code",
   "execution_count": 97,
   "metadata": {},
   "outputs": [
    {
     "data": {
      "text/plain": [
       "<matplotlib.axes._subplots.AxesSubplot at 0x7f9749931210>"
      ]
     },
     "execution_count": 97,
     "metadata": {},
     "output_type": "execute_result"
    },
    {
     "data": {
      "image/png": "[encoded data removed]",
      "text/plain": [
       "<Figure size 432x288 with 1 Axes>"
      ]
     },
     "metadata": {},
     "output_type": "display_data"
    }
   ],
   "source": [
    "(df['USA'] < 17.5).value_counts().plot.pie(labels=['>= 17.5','<17.5'],title='Co2 per capita', autopct='%1.1f%%')"
   ]
  },
  {
   "cell_type": "code",
   "execution_count": 99,
   "metadata": {},
   "outputs": [
    {
     "data": {
      "text/plain": [
       "<matplotlib.axes._subplots.AxesSubplot at 0x7f97494a15d0>"
      ]
     },
     "execution_count": 99,
     "metadata": {},
     "output_type": "execute_result"
    },
    {
     "data": {
      "image/png": "[encoded data removed]",
      "text/plain": [
       "<Figure size 432x288 with 1 Axes>"
      ]
     },
     "metadata": {},
     "output_type": "display_data"
    }
   ],
   "source": [
    "(df['DNK'] < 30.5).value_counts().plot.pie(labels=['>= 17.5','<17.5'],title='Co2 per capita', autopct='%1.1f%%')"
   ]
  },
  {
   "cell_type": "code",
   "execution_count": 102,
   "metadata": {},
   "outputs": [],
   "source": [
    "df = pd.read_csv('co2.csv',index_col=0)"
   ]
  },
  {
   "cell_type": "code",
   "execution_count": 103,
   "metadata": {},
   "outputs": [
    {
     "data": {
      "text/html": [
       "<div>\n",
       "<style scoped>\n",
       "    .dataframe tbody tr th:only-of-type {\n",
       "        vertical-align: middle;\n",
       "    }\n",
       "\n",
       "    .dataframe tbody tr th {\n",
       "        vertical-align: top;\n",
       "    }\n",
       "\n",
       "    .dataframe thead th {\n",
       "        text-align: right;\n",
       "    }\n",
       "</style>\n",
       "<table border=\"1\" class=\"dataframe\">\n",
       "  <thead>\n",
       "    <tr style=\"text-align: right;\">\n",
       "      <th></th>\n",
       "      <th>CO2 per capita</th>\n",
       "      <th>GDP per capita</th>\n",
       "    </tr>\n",
       "  </thead>\n",
       "  <tbody>\n",
       "    <tr>\n",
       "      <th>AFE</th>\n",
       "      <td>0.933541</td>\n",
       "      <td>1507.861055</td>\n",
       "    </tr>\n",
       "    <tr>\n",
       "      <th>AFG</th>\n",
       "      <td>0.200151</td>\n",
       "      <td>568.827927</td>\n",
       "    </tr>\n",
       "    <tr>\n",
       "      <th>AFW</th>\n",
       "      <td>0.515544</td>\n",
       "      <td>1834.366604</td>\n",
       "    </tr>\n",
       "    <tr>\n",
       "      <th>AGO</th>\n",
       "      <td>0.887380</td>\n",
       "      <td>3595.106667</td>\n",
       "    </tr>\n",
       "    <tr>\n",
       "      <th>ALB</th>\n",
       "      <td>1.939732</td>\n",
       "      <td>4433.741739</td>\n",
       "    </tr>\n",
       "  </tbody>\n",
       "</table>\n",
       "</div>"
      ],
      "text/plain": [
       "     CO2 per capita  GDP per capita\n",
       "AFE        0.933541     1507.861055\n",
       "AFG        0.200151      568.827927\n",
       "AFW        0.515544     1834.366604\n",
       "AGO        0.887380     3595.106667\n",
       "ALB        1.939732     4433.741739"
      ]
     },
     "execution_count": 103,
     "metadata": {},
     "output_type": "execute_result"
    }
   ],
   "source": [
    "df.head()"
   ]
  },
  {
   "cell_type": "code",
   "execution_count": 104,
   "metadata": {},
   "outputs": [
    {
     "data": {
      "text/plain": [
       "<matplotlib.axes._subplots.AxesSubplot at 0x7f97493e2750>"
      ]
     },
     "execution_count": 104,
     "metadata": {},
     "output_type": "execute_result"
    },
    {
     "data": {
      "image/png": "[encoded data removed]",
      "text/plain": [
       "<Figure size 432x288 with 1 Axes>"
      ]
     },
     "metadata": {
      "needs_background": "light"
     },
     "output_type": "display_data"
    }
   ],
   "source": [
    "df.plot.scatter(x='CO2 per capita',y = 'GDP per capita')"
   ]
  },
  {
   "cell_type": "code",
   "execution_count": 106,
   "metadata": {},
   "outputs": [
    {
     "data": {
      "text/html": [
       "<div>\n",
       "<style scoped>\n",
       "    .dataframe tbody tr th:only-of-type {\n",
       "        vertical-align: middle;\n",
       "    }\n",
       "\n",
       "    .dataframe tbody tr th {\n",
       "        vertical-align: top;\n",
       "    }\n",
       "\n",
       "    .dataframe thead th {\n",
       "        text-align: right;\n",
       "    }\n",
       "</style>\n",
       "<table border=\"1\" class=\"dataframe\">\n",
       "  <thead>\n",
       "    <tr style=\"text-align: right;\">\n",
       "      <th></th>\n",
       "      <th>CO2 per capita</th>\n",
       "      <th>GDP per capita</th>\n",
       "    </tr>\n",
       "  </thead>\n",
       "  <tbody>\n",
       "    <tr>\n",
       "      <th>CO2 per capita</th>\n",
       "      <td>1.000000</td>\n",
       "      <td>0.633178</td>\n",
       "    </tr>\n",
       "    <tr>\n",
       "      <th>GDP per capita</th>\n",
       "      <td>0.633178</td>\n",
       "      <td>1.000000</td>\n",
       "    </tr>\n",
       "  </tbody>\n",
       "</table>\n",
       "</div>"
      ],
      "text/plain": [
       "                CO2 per capita  GDP per capita\n",
       "CO2 per capita        1.000000        0.633178\n",
       "GDP per capita        0.633178        1.000000"
      ]
     },
     "execution_count": 106,
     "metadata": {},
     "output_type": "execute_result"
    }
   ],
   "source": [
    "df.corr()"
   ]
  },
  {
   "cell_type": "code",
   "execution_count": 116,
   "metadata": {},
   "outputs": [
    {
     "data": {
      "text/html": [
       "<div>\n",
       "<style scoped>\n",
       "    .dataframe tbody tr th:only-of-type {\n",
       "        vertical-align: middle;\n",
       "    }\n",
       "\n",
       "    .dataframe tbody tr th {\n",
       "        vertical-align: top;\n",
       "    }\n",
       "\n",
       "    .dataframe thead th {\n",
       "        text-align: right;\n",
       "    }\n",
       "</style>\n",
       "<table border=\"1\" class=\"dataframe\">\n",
       "  <thead>\n",
       "    <tr style=\"text-align: right;\">\n",
       "      <th></th>\n",
       "      <th>ABW</th>\n",
       "      <th>AFE</th>\n",
       "      <th>AFG</th>\n",
       "      <th>AFW</th>\n",
       "      <th>AGO</th>\n",
       "      <th>ALB</th>\n",
       "      <th>AND</th>\n",
       "      <th>ARB</th>\n",
       "      <th>ARE</th>\n",
       "      <th>ARG</th>\n",
       "      <th>...</th>\n",
       "      <th>VIR</th>\n",
       "      <th>VNM</th>\n",
       "      <th>VUT</th>\n",
       "      <th>WLD</th>\n",
       "      <th>WSM</th>\n",
       "      <th>XKX</th>\n",
       "      <th>YEM</th>\n",
       "      <th>ZAF</th>\n",
       "      <th>ZMB</th>\n",
       "      <th>ZWE</th>\n",
       "    </tr>\n",
       "    <tr>\n",
       "      <th>Year</th>\n",
       "      <th></th>\n",
       "      <th></th>\n",
       "      <th></th>\n",
       "      <th></th>\n",
       "      <th></th>\n",
       "      <th></th>\n",
       "      <th></th>\n",
       "      <th></th>\n",
       "      <th></th>\n",
       "      <th></th>\n",
       "      <th></th>\n",
       "      <th></th>\n",
       "      <th></th>\n",
       "      <th></th>\n",
       "      <th></th>\n",
       "      <th></th>\n",
       "      <th></th>\n",
       "      <th></th>\n",
       "      <th></th>\n",
       "      <th></th>\n",
       "      <th></th>\n",
       "    </tr>\n",
       "  </thead>\n",
       "  <tbody>\n",
       "    <tr>\n",
       "      <th>1960</th>\n",
       "      <td>204.631696</td>\n",
       "      <td>0.906060</td>\n",
       "      <td>0.046057</td>\n",
       "      <td>0.090880</td>\n",
       "      <td>0.100835</td>\n",
       "      <td>1.258195</td>\n",
       "      <td>NaN</td>\n",
       "      <td>0.609268</td>\n",
       "      <td>0.119037</td>\n",
       "      <td>2.383343</td>\n",
       "      <td>...</td>\n",
       "      <td>NaN</td>\n",
       "      <td>0.181947</td>\n",
       "      <td>NaN</td>\n",
       "      <td>3.121158</td>\n",
       "      <td>0.135031</td>\n",
       "      <td>NaN</td>\n",
       "      <td>0.011038</td>\n",
       "      <td>5.727223</td>\n",
       "      <td>NaN</td>\n",
       "      <td>NaN</td>\n",
       "    </tr>\n",
       "    <tr>\n",
       "      <th>1961</th>\n",
       "      <td>208.837879</td>\n",
       "      <td>0.922474</td>\n",
       "      <td>0.053589</td>\n",
       "      <td>0.095283</td>\n",
       "      <td>0.082204</td>\n",
       "      <td>1.374186</td>\n",
       "      <td>NaN</td>\n",
       "      <td>0.662618</td>\n",
       "      <td>0.109136</td>\n",
       "      <td>2.458551</td>\n",
       "      <td>...</td>\n",
       "      <td>NaN</td>\n",
       "      <td>0.183099</td>\n",
       "      <td>NaN</td>\n",
       "      <td>3.068090</td>\n",
       "      <td>0.163542</td>\n",
       "      <td>NaN</td>\n",
       "      <td>0.013599</td>\n",
       "      <td>5.832621</td>\n",
       "      <td>NaN</td>\n",
       "      <td>NaN</td>\n",
       "    </tr>\n",
       "    <tr>\n",
       "      <th>1962</th>\n",
       "      <td>226.081890</td>\n",
       "      <td>0.930816</td>\n",
       "      <td>0.073721</td>\n",
       "      <td>0.096612</td>\n",
       "      <td>0.210533</td>\n",
       "      <td>1.439956</td>\n",
       "      <td>NaN</td>\n",
       "      <td>0.727117</td>\n",
       "      <td>0.163542</td>\n",
       "      <td>2.538447</td>\n",
       "      <td>...</td>\n",
       "      <td>NaN</td>\n",
       "      <td>0.217694</td>\n",
       "      <td>0.595002</td>\n",
       "      <td>3.114839</td>\n",
       "      <td>0.158377</td>\n",
       "      <td>NaN</td>\n",
       "      <td>0.012729</td>\n",
       "      <td>5.887168</td>\n",
       "      <td>NaN</td>\n",
       "      <td>NaN</td>\n",
       "    </tr>\n",
       "    <tr>\n",
       "      <th>1963</th>\n",
       "      <td>214.785217</td>\n",
       "      <td>0.940570</td>\n",
       "      <td>0.074161</td>\n",
       "      <td>0.112376</td>\n",
       "      <td>0.202739</td>\n",
       "      <td>1.181681</td>\n",
       "      <td>NaN</td>\n",
       "      <td>0.853116</td>\n",
       "      <td>0.175833</td>\n",
       "      <td>2.330685</td>\n",
       "      <td>...</td>\n",
       "      <td>NaN</td>\n",
       "      <td>0.196997</td>\n",
       "      <td>0.471849</td>\n",
       "      <td>3.221195</td>\n",
       "      <td>0.184037</td>\n",
       "      <td>NaN</td>\n",
       "      <td>0.014518</td>\n",
       "      <td>5.961337</td>\n",
       "      <td>NaN</td>\n",
       "      <td>NaN</td>\n",
       "    </tr>\n",
       "    <tr>\n",
       "      <th>1964</th>\n",
       "      <td>207.626699</td>\n",
       "      <td>0.996033</td>\n",
       "      <td>0.086174</td>\n",
       "      <td>0.133258</td>\n",
       "      <td>0.213562</td>\n",
       "      <td>1.111742</td>\n",
       "      <td>NaN</td>\n",
       "      <td>0.972381</td>\n",
       "      <td>0.132815</td>\n",
       "      <td>2.553442</td>\n",
       "      <td>...</td>\n",
       "      <td>NaN</td>\n",
       "      <td>0.209870</td>\n",
       "      <td>0.864427</td>\n",
       "      <td>3.324046</td>\n",
       "      <td>0.208106</td>\n",
       "      <td>NaN</td>\n",
       "      <td>0.017550</td>\n",
       "      <td>6.332343</td>\n",
       "      <td>0.946606</td>\n",
       "      <td>1.034904</td>\n",
       "    </tr>\n",
       "  </tbody>\n",
       "</table>\n",
       "<p>5 rows × 266 columns</p>\n",
       "</div>"
      ],
      "text/plain": [
       "             ABW       AFE       AFG       AFW       AGO       ALB  AND  \\\n",
       "Year                                                                      \n",
       "1960  204.631696  0.906060  0.046057  0.090880  0.100835  1.258195  NaN   \n",
       "1961  208.837879  0.922474  0.053589  0.095283  0.082204  1.374186  NaN   \n",
       "1962  226.081890  0.930816  0.073721  0.096612  0.210533  1.439956  NaN   \n",
       "1963  214.785217  0.940570  0.074161  0.112376  0.202739  1.181681  NaN   \n",
       "1964  207.626699  0.996033  0.086174  0.133258  0.213562  1.111742  NaN   \n",
       "\n",
       "           ARB       ARE       ARG  ...  VIR       VNM       VUT       WLD  \\\n",
       "Year                                ...                                      \n",
       "1960  0.609268  0.119037  2.383343  ...  NaN  0.181947       NaN  3.121158   \n",
       "1961  0.662618  0.109136  2.458551  ...  NaN  0.183099       NaN  3.068090   \n",
       "1962  0.727117  0.163542  2.538447  ...  NaN  0.217694  0.595002  3.114839   \n",
       "1963  0.853116  0.175833  2.330685  ...  NaN  0.196997  0.471849  3.221195   \n",
       "1964  0.972381  0.132815  2.553442  ...  NaN  0.209870  0.864427  3.324046   \n",
       "\n",
       "           WSM  XKX       YEM       ZAF       ZMB       ZWE  \n",
       "Year                                                         \n",
       "1960  0.135031  NaN  0.011038  5.727223       NaN       NaN  \n",
       "1961  0.163542  NaN  0.013599  5.832621       NaN       NaN  \n",
       "1962  0.158377  NaN  0.012729  5.887168       NaN       NaN  \n",
       "1963  0.184037  NaN  0.014518  5.961337       NaN       NaN  \n",
       "1964  0.208106  NaN  0.017550  6.332343  0.946606  1.034904  \n",
       "\n",
       "[5 rows x 266 columns]"
      ]
     },
     "execution_count": 116,
     "metadata": {},
     "output_type": "execute_result"
    }
   ],
   "source": [
    "df = pd.read_csv('worldbank.csv',index_col = 0)\n",
    "df.head()"
   ]
  },
  {
   "cell_type": "code",
   "execution_count": 118,
   "metadata": {},
   "outputs": [
    {
     "data": {
      "text/plain": [
       "14.8058824221278"
      ]
     },
     "execution_count": 118,
     "metadata": {},
     "output_type": "execute_result"
    }
   ],
   "source": [
    "df.loc[2017]['USA']"
   ]
  },
  {
   "cell_type": "code",
   "execution_count": 125,
   "metadata": {},
   "outputs": [
    {
     "data": {
      "text/plain": [
       "Text(15, 30, 'PAK')"
      ]
     },
     "execution_count": 125,
     "metadata": {},
     "output_type": "execute_result"
    },
    {
     "data": {
      "image/png": "[encoded data removed]",
      "text/plain": [
       "<Figure size 432x288 with 1 Axes>"
      ]
     },
     "metadata": {
      "needs_background": "light"
     },
     "output_type": "display_data"
    }
   ],
   "source": [
    "ax = df.loc[2017].plot.hist(bins=15,facecolor='green')\n",
    "ax.set_xlabel(\"Co2 per capita\")\n",
    "ax.set_ylabel(\"Number of countries\")\n",
    "ax.annotate(\"PAK\",xy=(5,10), xytext=(15,30),arrowprops= dict(arrowstyle=\"->\", connectionstyle=\"arc3\"))"
   ]
  },
  {
   "cell_type": "code",
   "execution_count": null,
   "metadata": {},
   "outputs": [],
   "source": []
  }
 ],
 "metadata": {
  "kernelspec": {
   "display_name": "Python 3",
   "language": "python",
   "name": "python3"
  },
  "language_info": {
   "codemirror_mode": {
    "name": "ipython",
    "version": 3
   },
   "file_extension": ".py",
   "mimetype": "text/x-python",
   "name": "python",
   "nbconvert_exporter": "python",
   "pygments_lexer": "ipython3",
   "version": "3.7.6"
  }
 },
 "nbformat": 4,
 "nbformat_minor": 4
}
