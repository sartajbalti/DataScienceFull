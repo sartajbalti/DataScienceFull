{
 "cells": [
  {
   "cell_type": "markdown",
   "metadata": {},
   "source": [
    "## Project_Co2 Per_Capita"
   ]
  },
  {
   "cell_type": "code",
   "execution_count": 15,
   "metadata": {},
   "outputs": [],
   "source": [
    "# Explore how Data Visual \n",
    "import pandas as pd \n",
    "import matplotlib.pyplot as plt \n",
    "%matplotlib inline "
   ]
  },
  {
   "cell_type": "code",
   "execution_count": 52,
   "metadata": {},
   "outputs": [
    {
     "data": {
      "text/html": [
       "<div>\n",
       "<style scoped>\n",
       "    .dataframe tbody tr th:only-of-type {\n",
       "        vertical-align: middle;\n",
       "    }\n",
       "\n",
       "    .dataframe tbody tr th {\n",
       "        vertical-align: top;\n",
       "    }\n",
       "\n",
       "    .dataframe thead th {\n",
       "        text-align: right;\n",
       "    }\n",
       "</style>\n",
       "<table border=\"1\" class=\"dataframe\">\n",
       "  <thead>\n",
       "    <tr style=\"text-align: right;\">\n",
       "      <th></th>\n",
       "      <th>ABW</th>\n",
       "      <th>AFE</th>\n",
       "      <th>AFG</th>\n",
       "      <th>AFW</th>\n",
       "      <th>AGO</th>\n",
       "      <th>ALB</th>\n",
       "      <th>AND</th>\n",
       "      <th>ARB</th>\n",
       "      <th>ARE</th>\n",
       "      <th>ARG</th>\n",
       "      <th>...</th>\n",
       "      <th>VIR</th>\n",
       "      <th>VNM</th>\n",
       "      <th>VUT</th>\n",
       "      <th>WLD</th>\n",
       "      <th>WSM</th>\n",
       "      <th>XKX</th>\n",
       "      <th>YEM</th>\n",
       "      <th>ZAF</th>\n",
       "      <th>ZMB</th>\n",
       "      <th>ZWE</th>\n",
       "    </tr>\n",
       "    <tr>\n",
       "      <th>Year</th>\n",
       "      <th></th>\n",
       "      <th></th>\n",
       "      <th></th>\n",
       "      <th></th>\n",
       "      <th></th>\n",
       "      <th></th>\n",
       "      <th></th>\n",
       "      <th></th>\n",
       "      <th></th>\n",
       "      <th></th>\n",
       "      <th></th>\n",
       "      <th></th>\n",
       "      <th></th>\n",
       "      <th></th>\n",
       "      <th></th>\n",
       "      <th></th>\n",
       "      <th></th>\n",
       "      <th></th>\n",
       "      <th></th>\n",
       "      <th></th>\n",
       "      <th></th>\n",
       "    </tr>\n",
       "  </thead>\n",
       "  <tbody>\n",
       "    <tr>\n",
       "      <th>1960</th>\n",
       "      <td>204.631696</td>\n",
       "      <td>0.906060</td>\n",
       "      <td>0.046057</td>\n",
       "      <td>0.090880</td>\n",
       "      <td>0.100835</td>\n",
       "      <td>1.258195</td>\n",
       "      <td>NaN</td>\n",
       "      <td>0.609268</td>\n",
       "      <td>0.119037</td>\n",
       "      <td>2.383343</td>\n",
       "      <td>...</td>\n",
       "      <td>NaN</td>\n",
       "      <td>0.181947</td>\n",
       "      <td>NaN</td>\n",
       "      <td>3.121158</td>\n",
       "      <td>0.135031</td>\n",
       "      <td>NaN</td>\n",
       "      <td>0.011038</td>\n",
       "      <td>5.727223</td>\n",
       "      <td>NaN</td>\n",
       "      <td>NaN</td>\n",
       "    </tr>\n",
       "    <tr>\n",
       "      <th>1961</th>\n",
       "      <td>208.837879</td>\n",
       "      <td>0.922474</td>\n",
       "      <td>0.053589</td>\n",
       "      <td>0.095283</td>\n",
       "      <td>0.082204</td>\n",
       "      <td>1.374186</td>\n",
       "      <td>NaN</td>\n",
       "      <td>0.662618</td>\n",
       "      <td>0.109136</td>\n",
       "      <td>2.458551</td>\n",
       "      <td>...</td>\n",
       "      <td>NaN</td>\n",
       "      <td>0.183099</td>\n",
       "      <td>NaN</td>\n",
       "      <td>3.068090</td>\n",
       "      <td>0.163542</td>\n",
       "      <td>NaN</td>\n",
       "      <td>0.013599</td>\n",
       "      <td>5.832621</td>\n",
       "      <td>NaN</td>\n",
       "      <td>NaN</td>\n",
       "    </tr>\n",
       "    <tr>\n",
       "      <th>1962</th>\n",
       "      <td>226.081890</td>\n",
       "      <td>0.930816</td>\n",
       "      <td>0.073721</td>\n",
       "      <td>0.096612</td>\n",
       "      <td>0.210533</td>\n",
       "      <td>1.439956</td>\n",
       "      <td>NaN</td>\n",
       "      <td>0.727117</td>\n",
       "      <td>0.163542</td>\n",
       "      <td>2.538447</td>\n",
       "      <td>...</td>\n",
       "      <td>NaN</td>\n",
       "      <td>0.217694</td>\n",
       "      <td>0.595002</td>\n",
       "      <td>3.114839</td>\n",
       "      <td>0.158377</td>\n",
       "      <td>NaN</td>\n",
       "      <td>0.012729</td>\n",
       "      <td>5.887168</td>\n",
       "      <td>NaN</td>\n",
       "      <td>NaN</td>\n",
       "    </tr>\n",
       "    <tr>\n",
       "      <th>1963</th>\n",
       "      <td>214.785217</td>\n",
       "      <td>0.940570</td>\n",
       "      <td>0.074161</td>\n",
       "      <td>0.112376</td>\n",
       "      <td>0.202739</td>\n",
       "      <td>1.181681</td>\n",
       "      <td>NaN</td>\n",
       "      <td>0.853116</td>\n",
       "      <td>0.175833</td>\n",
       "      <td>2.330685</td>\n",
       "      <td>...</td>\n",
       "      <td>NaN</td>\n",
       "      <td>0.196997</td>\n",
       "      <td>0.471849</td>\n",
       "      <td>3.221195</td>\n",
       "      <td>0.184037</td>\n",
       "      <td>NaN</td>\n",
       "      <td>0.014518</td>\n",
       "      <td>5.961337</td>\n",
       "      <td>NaN</td>\n",
       "      <td>NaN</td>\n",
       "    </tr>\n",
       "    <tr>\n",
       "      <th>1964</th>\n",
       "      <td>207.626699</td>\n",
       "      <td>0.996033</td>\n",
       "      <td>0.086174</td>\n",
       "      <td>0.133258</td>\n",
       "      <td>0.213562</td>\n",
       "      <td>1.111742</td>\n",
       "      <td>NaN</td>\n",
       "      <td>0.972381</td>\n",
       "      <td>0.132815</td>\n",
       "      <td>2.553442</td>\n",
       "      <td>...</td>\n",
       "      <td>NaN</td>\n",
       "      <td>0.209870</td>\n",
       "      <td>0.864427</td>\n",
       "      <td>3.324046</td>\n",
       "      <td>0.208106</td>\n",
       "      <td>NaN</td>\n",
       "      <td>0.017550</td>\n",
       "      <td>6.332343</td>\n",
       "      <td>0.946606</td>\n",
       "      <td>1.034904</td>\n",
       "    </tr>\n",
       "  </tbody>\n",
       "</table>\n",
       "<p>5 rows × 266 columns</p>\n",
       "</div>"
      ],
      "text/plain": [
       "             ABW       AFE       AFG       AFW       AGO       ALB  AND  \\\n",
       "Year                                                                      \n",
       "1960  204.631696  0.906060  0.046057  0.090880  0.100835  1.258195  NaN   \n",
       "1961  208.837879  0.922474  0.053589  0.095283  0.082204  1.374186  NaN   \n",
       "1962  226.081890  0.930816  0.073721  0.096612  0.210533  1.439956  NaN   \n",
       "1963  214.785217  0.940570  0.074161  0.112376  0.202739  1.181681  NaN   \n",
       "1964  207.626699  0.996033  0.086174  0.133258  0.213562  1.111742  NaN   \n",
       "\n",
       "           ARB       ARE       ARG  ...  VIR       VNM       VUT       WLD  \\\n",
       "Year                                ...                                      \n",
       "1960  0.609268  0.119037  2.383343  ...  NaN  0.181947       NaN  3.121158   \n",
       "1961  0.662618  0.109136  2.458551  ...  NaN  0.183099       NaN  3.068090   \n",
       "1962  0.727117  0.163542  2.538447  ...  NaN  0.217694  0.595002  3.114839   \n",
       "1963  0.853116  0.175833  2.330685  ...  NaN  0.196997  0.471849  3.221195   \n",
       "1964  0.972381  0.132815  2.553442  ...  NaN  0.209870  0.864427  3.324046   \n",
       "\n",
       "           WSM  XKX       YEM       ZAF       ZMB       ZWE  \n",
       "Year                                                         \n",
       "1960  0.135031  NaN  0.011038  5.727223       NaN       NaN  \n",
       "1961  0.163542  NaN  0.013599  5.832621       NaN       NaN  \n",
       "1962  0.158377  NaN  0.012729  5.887168       NaN       NaN  \n",
       "1963  0.184037  NaN  0.014518  5.961337       NaN       NaN  \n",
       "1964  0.208106  NaN  0.017550  6.332343  0.946606  1.034904  \n",
       "\n",
       "[5 rows x 266 columns]"
      ]
     },
     "execution_count": 52,
     "metadata": {},
     "output_type": "execute_result"
    }
   ],
   "source": [
    "# Now we follow the previous steps like we did in previous lessons \n",
    "\n",
    "df = pd.read_csv(\"worldbank.csv\", index_col=0)\n",
    "df.head()"
   ]
  },
  {
   "cell_type": "code",
   "execution_count": 53,
   "metadata": {},
   "outputs": [
    {
     "data": {
      "text/plain": [
       "Index(['ABW', 'AFE', 'AFG', 'AFW', 'AGO', 'ALB', 'AND', 'ARB', 'ARE', 'ARG',\n",
       "       ...\n",
       "       'VIR', 'VNM', 'VUT', 'WLD', 'WSM', 'XKX', 'YEM', 'ZAF', 'ZMB', 'ZWE'],\n",
       "      dtype='object', length=266)"
      ]
     },
     "execution_count": 53,
     "metadata": {},
     "output_type": "execute_result"
    }
   ],
   "source": [
    "df.columns\n"
   ]
  },
  {
   "cell_type": "code",
   "execution_count": 54,
   "metadata": {},
   "outputs": [
    {
     "data": {
      "text/html": [
       "<div>\n",
       "<style scoped>\n",
       "    .dataframe tbody tr th:only-of-type {\n",
       "        vertical-align: middle;\n",
       "    }\n",
       "\n",
       "    .dataframe tbody tr th {\n",
       "        vertical-align: top;\n",
       "    }\n",
       "\n",
       "    .dataframe thead th {\n",
       "        text-align: right;\n",
       "    }\n",
       "</style>\n",
       "<table border=\"1\" class=\"dataframe\">\n",
       "  <thead>\n",
       "    <tr style=\"text-align: right;\">\n",
       "      <th></th>\n",
       "      <th>ABW</th>\n",
       "      <th>AFE</th>\n",
       "      <th>AFG</th>\n",
       "      <th>AFW</th>\n",
       "      <th>AGO</th>\n",
       "      <th>ALB</th>\n",
       "      <th>AND</th>\n",
       "      <th>ARB</th>\n",
       "      <th>ARE</th>\n",
       "      <th>ARG</th>\n",
       "      <th>...</th>\n",
       "      <th>VIR</th>\n",
       "      <th>VNM</th>\n",
       "      <th>VUT</th>\n",
       "      <th>WLD</th>\n",
       "      <th>WSM</th>\n",
       "      <th>XKX</th>\n",
       "      <th>YEM</th>\n",
       "      <th>ZAF</th>\n",
       "      <th>ZMB</th>\n",
       "      <th>ZWE</th>\n",
       "    </tr>\n",
       "  </thead>\n",
       "  <tbody>\n",
       "    <tr>\n",
       "      <th>ABW</th>\n",
       "      <td>1.000000</td>\n",
       "      <td>-0.453351</td>\n",
       "      <td>-0.502958</td>\n",
       "      <td>-0.180877</td>\n",
       "      <td>-0.020925</td>\n",
       "      <td>-0.367901</td>\n",
       "      <td>NaN</td>\n",
       "      <td>-0.437307</td>\n",
       "      <td>0.264335</td>\n",
       "      <td>-0.168328</td>\n",
       "      <td>...</td>\n",
       "      <td>NaN</td>\n",
       "      <td>0.059608</td>\n",
       "      <td>0.308816</td>\n",
       "      <td>-0.240711</td>\n",
       "      <td>-0.598962</td>\n",
       "      <td>NaN</td>\n",
       "      <td>-0.619561</td>\n",
       "      <td>-0.545527</td>\n",
       "      <td>0.572760</td>\n",
       "      <td>-0.139282</td>\n",
       "    </tr>\n",
       "    <tr>\n",
       "      <th>AFE</th>\n",
       "      <td>-0.453351</td>\n",
       "      <td>1.000000</td>\n",
       "      <td>0.466669</td>\n",
       "      <td>0.402718</td>\n",
       "      <td>-0.184936</td>\n",
       "      <td>0.845522</td>\n",
       "      <td>-0.330496</td>\n",
       "      <td>-0.020922</td>\n",
       "      <td>0.408673</td>\n",
       "      <td>0.205929</td>\n",
       "      <td>...</td>\n",
       "      <td>NaN</td>\n",
       "      <td>-0.302655</td>\n",
       "      <td>0.006856</td>\n",
       "      <td>0.561878</td>\n",
       "      <td>-0.171457</td>\n",
       "      <td>NaN</td>\n",
       "      <td>-0.357308</td>\n",
       "      <td>0.818084</td>\n",
       "      <td>0.287794</td>\n",
       "      <td>0.333933</td>\n",
       "    </tr>\n",
       "    <tr>\n",
       "      <th>AFG</th>\n",
       "      <td>-0.502958</td>\n",
       "      <td>0.466669</td>\n",
       "      <td>1.000000</td>\n",
       "      <td>0.352672</td>\n",
       "      <td>0.322833</td>\n",
       "      <td>0.591890</td>\n",
       "      <td>-0.754110</td>\n",
       "      <td>0.455415</td>\n",
       "      <td>0.064100</td>\n",
       "      <td>0.513794</td>\n",
       "      <td>...</td>\n",
       "      <td>NaN</td>\n",
       "      <td>0.383244</td>\n",
       "      <td>0.079044</td>\n",
       "      <td>0.669557</td>\n",
       "      <td>0.324964</td>\n",
       "      <td>NaN</td>\n",
       "      <td>0.067972</td>\n",
       "      <td>0.636601</td>\n",
       "      <td>-0.047252</td>\n",
       "      <td>-0.062881</td>\n",
       "    </tr>\n",
       "    <tr>\n",
       "      <th>AFW</th>\n",
       "      <td>-0.180877</td>\n",
       "      <td>0.402718</td>\n",
       "      <td>0.352672</td>\n",
       "      <td>1.000000</td>\n",
       "      <td>0.535558</td>\n",
       "      <td>0.351148</td>\n",
       "      <td>-0.355787</td>\n",
       "      <td>0.703690</td>\n",
       "      <td>0.421373</td>\n",
       "      <td>0.736751</td>\n",
       "      <td>...</td>\n",
       "      <td>NaN</td>\n",
       "      <td>0.243532</td>\n",
       "      <td>-0.454301</td>\n",
       "      <td>0.780845</td>\n",
       "      <td>0.536641</td>\n",
       "      <td>NaN</td>\n",
       "      <td>0.382559</td>\n",
       "      <td>0.575304</td>\n",
       "      <td>-0.508005</td>\n",
       "      <td>0.033947</td>\n",
       "    </tr>\n",
       "    <tr>\n",
       "      <th>AGO</th>\n",
       "      <td>-0.020925</td>\n",
       "      <td>-0.184936</td>\n",
       "      <td>0.322833</td>\n",
       "      <td>0.535558</td>\n",
       "      <td>1.000000</td>\n",
       "      <td>-0.045108</td>\n",
       "      <td>-0.657879</td>\n",
       "      <td>0.885871</td>\n",
       "      <td>0.073956</td>\n",
       "      <td>0.844181</td>\n",
       "      <td>...</td>\n",
       "      <td>NaN</td>\n",
       "      <td>0.825850</td>\n",
       "      <td>-0.298578</td>\n",
       "      <td>0.598267</td>\n",
       "      <td>0.799578</td>\n",
       "      <td>NaN</td>\n",
       "      <td>0.757588</td>\n",
       "      <td>0.287952</td>\n",
       "      <td>-0.627351</td>\n",
       "      <td>-0.696369</td>\n",
       "    </tr>\n",
       "    <tr>\n",
       "      <th>...</th>\n",
       "      <td>...</td>\n",
       "      <td>...</td>\n",
       "      <td>...</td>\n",
       "      <td>...</td>\n",
       "      <td>...</td>\n",
       "      <td>...</td>\n",
       "      <td>...</td>\n",
       "      <td>...</td>\n",
       "      <td>...</td>\n",
       "      <td>...</td>\n",
       "      <td>...</td>\n",
       "      <td>...</td>\n",
       "      <td>...</td>\n",
       "      <td>...</td>\n",
       "      <td>...</td>\n",
       "      <td>...</td>\n",
       "      <td>...</td>\n",
       "      <td>...</td>\n",
       "      <td>...</td>\n",
       "      <td>...</td>\n",
       "      <td>...</td>\n",
       "    </tr>\n",
       "    <tr>\n",
       "      <th>XKX</th>\n",
       "      <td>NaN</td>\n",
       "      <td>NaN</td>\n",
       "      <td>NaN</td>\n",
       "      <td>NaN</td>\n",
       "      <td>NaN</td>\n",
       "      <td>NaN</td>\n",
       "      <td>NaN</td>\n",
       "      <td>NaN</td>\n",
       "      <td>NaN</td>\n",
       "      <td>NaN</td>\n",
       "      <td>...</td>\n",
       "      <td>NaN</td>\n",
       "      <td>NaN</td>\n",
       "      <td>NaN</td>\n",
       "      <td>NaN</td>\n",
       "      <td>NaN</td>\n",
       "      <td>NaN</td>\n",
       "      <td>NaN</td>\n",
       "      <td>NaN</td>\n",
       "      <td>NaN</td>\n",
       "      <td>NaN</td>\n",
       "    </tr>\n",
       "    <tr>\n",
       "      <th>YEM</th>\n",
       "      <td>-0.619561</td>\n",
       "      <td>-0.357308</td>\n",
       "      <td>0.067972</td>\n",
       "      <td>0.382559</td>\n",
       "      <td>0.757588</td>\n",
       "      <td>-0.394054</td>\n",
       "      <td>0.023232</td>\n",
       "      <td>0.759693</td>\n",
       "      <td>-0.221065</td>\n",
       "      <td>0.484233</td>\n",
       "      <td>...</td>\n",
       "      <td>NaN</td>\n",
       "      <td>0.521268</td>\n",
       "      <td>-0.455832</td>\n",
       "      <td>0.202546</td>\n",
       "      <td>0.712634</td>\n",
       "      <td>NaN</td>\n",
       "      <td>1.000000</td>\n",
       "      <td>0.142136</td>\n",
       "      <td>-0.869488</td>\n",
       "      <td>-0.549881</td>\n",
       "    </tr>\n",
       "    <tr>\n",
       "      <th>ZAF</th>\n",
       "      <td>-0.545527</td>\n",
       "      <td>0.818084</td>\n",
       "      <td>0.636601</td>\n",
       "      <td>0.575304</td>\n",
       "      <td>0.287952</td>\n",
       "      <td>0.738641</td>\n",
       "      <td>-0.581636</td>\n",
       "      <td>0.480179</td>\n",
       "      <td>0.154438</td>\n",
       "      <td>0.539665</td>\n",
       "      <td>...</td>\n",
       "      <td>NaN</td>\n",
       "      <td>0.191596</td>\n",
       "      <td>-0.176530</td>\n",
       "      <td>0.744338</td>\n",
       "      <td>0.371909</td>\n",
       "      <td>NaN</td>\n",
       "      <td>0.142136</td>\n",
       "      <td>1.000000</td>\n",
       "      <td>-0.205701</td>\n",
       "      <td>-0.157057</td>\n",
       "    </tr>\n",
       "    <tr>\n",
       "      <th>ZMB</th>\n",
       "      <td>0.572760</td>\n",
       "      <td>0.287794</td>\n",
       "      <td>-0.047252</td>\n",
       "      <td>-0.508005</td>\n",
       "      <td>-0.627351</td>\n",
       "      <td>0.283306</td>\n",
       "      <td>-0.433457</td>\n",
       "      <td>-0.810150</td>\n",
       "      <td>0.324146</td>\n",
       "      <td>-0.433598</td>\n",
       "      <td>...</td>\n",
       "      <td>NaN</td>\n",
       "      <td>-0.418981</td>\n",
       "      <td>0.613547</td>\n",
       "      <td>-0.153164</td>\n",
       "      <td>-0.776531</td>\n",
       "      <td>NaN</td>\n",
       "      <td>-0.869488</td>\n",
       "      <td>-0.205701</td>\n",
       "      <td>1.000000</td>\n",
       "      <td>0.382014</td>\n",
       "    </tr>\n",
       "    <tr>\n",
       "      <th>ZWE</th>\n",
       "      <td>-0.139282</td>\n",
       "      <td>0.333933</td>\n",
       "      <td>-0.062881</td>\n",
       "      <td>0.033947</td>\n",
       "      <td>-0.696369</td>\n",
       "      <td>0.150780</td>\n",
       "      <td>0.489735</td>\n",
       "      <td>-0.567265</td>\n",
       "      <td>0.491675</td>\n",
       "      <td>-0.421842</td>\n",
       "      <td>...</td>\n",
       "      <td>NaN</td>\n",
       "      <td>-0.736541</td>\n",
       "      <td>-0.058129</td>\n",
       "      <td>-0.132377</td>\n",
       "      <td>-0.659468</td>\n",
       "      <td>NaN</td>\n",
       "      <td>-0.549881</td>\n",
       "      <td>-0.157057</td>\n",
       "      <td>0.382014</td>\n",
       "      <td>1.000000</td>\n",
       "    </tr>\n",
       "  </tbody>\n",
       "</table>\n",
       "<p>266 rows × 266 columns</p>\n",
       "</div>"
      ],
      "text/plain": [
       "          ABW       AFE       AFG       AFW       AGO       ALB       AND  \\\n",
       "ABW  1.000000 -0.453351 -0.502958 -0.180877 -0.020925 -0.367901       NaN   \n",
       "AFE -0.453351  1.000000  0.466669  0.402718 -0.184936  0.845522 -0.330496   \n",
       "AFG -0.502958  0.466669  1.000000  0.352672  0.322833  0.591890 -0.754110   \n",
       "AFW -0.180877  0.402718  0.352672  1.000000  0.535558  0.351148 -0.355787   \n",
       "AGO -0.020925 -0.184936  0.322833  0.535558  1.000000 -0.045108 -0.657879   \n",
       "..        ...       ...       ...       ...       ...       ...       ...   \n",
       "XKX       NaN       NaN       NaN       NaN       NaN       NaN       NaN   \n",
       "YEM -0.619561 -0.357308  0.067972  0.382559  0.757588 -0.394054  0.023232   \n",
       "ZAF -0.545527  0.818084  0.636601  0.575304  0.287952  0.738641 -0.581636   \n",
       "ZMB  0.572760  0.287794 -0.047252 -0.508005 -0.627351  0.283306 -0.433457   \n",
       "ZWE -0.139282  0.333933 -0.062881  0.033947 -0.696369  0.150780  0.489735   \n",
       "\n",
       "          ARB       ARE       ARG  ...  VIR       VNM       VUT       WLD  \\\n",
       "ABW -0.437307  0.264335 -0.168328  ...  NaN  0.059608  0.308816 -0.240711   \n",
       "AFE -0.020922  0.408673  0.205929  ...  NaN -0.302655  0.006856  0.561878   \n",
       "AFG  0.455415  0.064100  0.513794  ...  NaN  0.383244  0.079044  0.669557   \n",
       "AFW  0.703690  0.421373  0.736751  ...  NaN  0.243532 -0.454301  0.780845   \n",
       "AGO  0.885871  0.073956  0.844181  ...  NaN  0.825850 -0.298578  0.598267   \n",
       "..        ...       ...       ...  ...  ...       ...       ...       ...   \n",
       "XKX       NaN       NaN       NaN  ...  NaN       NaN       NaN       NaN   \n",
       "YEM  0.759693 -0.221065  0.484233  ...  NaN  0.521268 -0.455832  0.202546   \n",
       "ZAF  0.480179  0.154438  0.539665  ...  NaN  0.191596 -0.176530  0.744338   \n",
       "ZMB -0.810150  0.324146 -0.433598  ...  NaN -0.418981  0.613547 -0.153164   \n",
       "ZWE -0.567265  0.491675 -0.421842  ...  NaN -0.736541 -0.058129 -0.132377   \n",
       "\n",
       "          WSM  XKX       YEM       ZAF       ZMB       ZWE  \n",
       "ABW -0.598962  NaN -0.619561 -0.545527  0.572760 -0.139282  \n",
       "AFE -0.171457  NaN -0.357308  0.818084  0.287794  0.333933  \n",
       "AFG  0.324964  NaN  0.067972  0.636601 -0.047252 -0.062881  \n",
       "AFW  0.536641  NaN  0.382559  0.575304 -0.508005  0.033947  \n",
       "AGO  0.799578  NaN  0.757588  0.287952 -0.627351 -0.696369  \n",
       "..        ...  ...       ...       ...       ...       ...  \n",
       "XKX       NaN  NaN       NaN       NaN       NaN       NaN  \n",
       "YEM  0.712634  NaN  1.000000  0.142136 -0.869488 -0.549881  \n",
       "ZAF  0.371909  NaN  0.142136  1.000000 -0.205701 -0.157057  \n",
       "ZMB -0.776531  NaN -0.869488 -0.205701  1.000000  0.382014  \n",
       "ZWE -0.659468  NaN -0.549881 -0.157057  0.382014  1.000000  \n",
       "\n",
       "[266 rows x 266 columns]"
      ]
     },
     "execution_count": 54,
     "metadata": {},
     "output_type": "execute_result"
    }
   ],
   "source": [
    "df.corr()"
   ]
  },
  {
   "cell_type": "code",
   "execution_count": 55,
   "metadata": {},
   "outputs": [
    {
     "data": {
      "text/plain": [
       "ABW     True\n",
       "AFE    False\n",
       "AFG    False\n",
       "AFW    False\n",
       "AGO    False\n",
       "       ...  \n",
       "XKX     True\n",
       "YEM    False\n",
       "ZAF    False\n",
       "ZMB     True\n",
       "ZWE     True\n",
       "Length: 266, dtype: bool"
      ]
     },
     "execution_count": 55,
     "metadata": {},
     "output_type": "execute_result"
    }
   ],
   "source": [
    "df.isnull().any()"
   ]
  },
  {
   "cell_type": "code",
   "execution_count": 56,
   "metadata": {},
   "outputs": [
    {
     "data": {
      "text/plain": [
       "ABW    29\n",
       "AFE     0\n",
       "AFG     0\n",
       "AFW     0\n",
       "AGO     0\n",
       "       ..\n",
       "XKX    59\n",
       "YEM     0\n",
       "ZAF     0\n",
       "ZMB     4\n",
       "ZWE     4\n",
       "Length: 266, dtype: int64"
      ]
     },
     "execution_count": 56,
     "metadata": {},
     "output_type": "execute_result"
    }
   ],
   "source": [
    "df.isnull().sum()"
   ]
  },
  {
   "cell_type": "code",
   "execution_count": 57,
   "metadata": {},
   "outputs": [
    {
     "data": {
      "text/plain": [
       "<matplotlib.axes._subplots.AxesSubplot at 0x7f47f7b91110>"
      ]
     },
     "execution_count": 57,
     "metadata": {},
     "output_type": "execute_result"
    },
    {
     "data": {
      "image/png": "[encoded data removed]",
      "text/plain": [
       "<Figure size 432x288 with 1 Axes>"
      ]
     },
     "metadata": {
      "needs_background": "light"
     },
     "output_type": "display_data"
    }
   ],
   "source": [
    "df.isnull().sum().plot.hist()"
   ]
  },
  {
   "cell_type": "code",
   "execution_count": 65,
   "metadata": {},
   "outputs": [],
   "source": [
    "cl =  df.dropna(axis='columns')"
   ]
  },
  {
   "cell_type": "code",
   "execution_count": 59,
   "metadata": {},
   "outputs": [
    {
     "data": {
      "text/plain": [
       "15694"
      ]
     },
     "execution_count": 59,
     "metadata": {},
     "output_type": "execute_result"
    }
   ],
   "source": [
    "df.size"
   ]
  },
  {
   "cell_type": "code",
   "execution_count": 60,
   "metadata": {},
   "outputs": [
    {
     "data": {
      "text/plain": [
       "(59, 266)"
      ]
     },
     "execution_count": 60,
     "metadata": {},
     "output_type": "execute_result"
    }
   ],
   "source": [
    "df.shape"
   ]
  },
  {
   "cell_type": "code",
   "execution_count": 66,
   "metadata": {},
   "outputs": [
    {
     "data": {
      "text/plain": [
       "(59, 191)"
      ]
     },
     "execution_count": 66,
     "metadata": {},
     "output_type": "execute_result"
    }
   ],
   "source": [
    "cl.shape"
   ]
  },
  {
   "cell_type": "code",
   "execution_count": 61,
   "metadata": {},
   "outputs": [
    {
     "data": {
      "text/plain": [
       "ABW    float64\n",
       "AFE    float64\n",
       "AFG    float64\n",
       "AFW    float64\n",
       "AGO    float64\n",
       "        ...   \n",
       "XKX    float64\n",
       "YEM    float64\n",
       "ZAF    float64\n",
       "ZMB    float64\n",
       "ZWE    float64\n",
       "Length: 266, dtype: object"
      ]
     },
     "execution_count": 61,
     "metadata": {},
     "output_type": "execute_result"
    }
   ],
   "source": [
    "df.dtypes\n"
   ]
  },
  {
   "cell_type": "code",
   "execution_count": 62,
   "metadata": {},
   "outputs": [
    {
     "name": "stdout",
     "output_type": "stream",
     "text": [
      "<class 'pandas.core.frame.DataFrame'>\n",
      "Int64Index: 59 entries, 1960 to 2018\n",
      "Columns: 266 entries, ABW to ZWE\n",
      "dtypes: float64(266)\n",
      "memory usage: 123.1 KB\n"
     ]
    }
   ],
   "source": [
    "df.info()"
   ]
  },
  {
   "cell_type": "code",
   "execution_count": 67,
   "metadata": {},
   "outputs": [
    {
     "data": {
      "text/plain": [
       "array([<matplotlib.axes._subplots.AxesSubplot object at 0x7f47f7972e50>],\n",
       "      dtype=object)"
      ]
     },
     "execution_count": 67,
     "metadata": {},
     "output_type": "execute_result"
    },
    {
     "data": {
      "image/png": "[encoded data removed]",
      "text/plain": [
       "<Figure size 432x288 with 1 Axes>"
      ]
     },
     "metadata": {},
     "output_type": "display_data"
    }
   ],
   "source": [
    "#Viusalization \n",
    "cl['PAK'].loc[2010:].plot.pie(subplots=True, autopct='%1.1f%%')"
   ]
  },
  {
   "cell_type": "code",
   "execution_count": 68,
   "metadata": {},
   "outputs": [
    {
     "data": {
      "text/plain": [
       "<matplotlib.axes._subplots.AxesSubplot at 0x7f47f78f0790>"
      ]
     },
     "execution_count": 68,
     "metadata": {},
     "output_type": "execute_result"
    },
    {
     "data": {
      "image/png": "[encoded data removed]",
      "text/plain": [
       "<Figure size 432x288 with 1 Axes>"
      ]
     },
     "metadata": {
      "needs_background": "light"
     },
     "output_type": "display_data"
    }
   ],
   "source": [
    "cl['PAK'].plot()"
   ]
  },
  {
   "cell_type": "code",
   "execution_count": 70,
   "metadata": {},
   "outputs": [],
   "source": [
    "dp = (cl.loc[2018]-cl.loc[1998])/cl.loc[1998]"
   ]
  },
  {
   "cell_type": "code",
   "execution_count": 71,
   "metadata": {},
   "outputs": [
    {
     "data": {
      "text/plain": [
       "count    191.000000\n",
       "mean       0.494745\n",
       "std        1.341795\n",
       "min       -0.737721\n",
       "25%       -0.101786\n",
       "50%        0.198752\n",
       "75%        0.643839\n",
       "max       15.694284\n",
       "dtype: float64"
      ]
     },
     "execution_count": 71,
     "metadata": {},
     "output_type": "execute_result"
    }
   ],
   "source": [
    "dp.describe()"
   ]
  },
  {
   "cell_type": "code",
   "execution_count": 72,
   "metadata": {},
   "outputs": [
    {
     "data": {
      "text/plain": [
       "<matplotlib.axes._subplots.AxesSubplot at 0x7f47f7831e50>"
      ]
     },
     "execution_count": 72,
     "metadata": {},
     "output_type": "execute_result"
    },
    {
     "data": {
      "image/png": "[encoded data removed]",
      "text/plain": [
       "<Figure size 432x288 with 1 Axes>"
      ]
     },
     "metadata": {
      "needs_background": "light"
     },
     "output_type": "display_data"
    }
   ],
   "source": [
    "dp.plot.hist(bins=30)"
   ]
  },
  {
   "cell_type": "code",
   "execution_count": 87,
   "metadata": {},
   "outputs": [
    {
     "data": {
      "image/png": "[encoded data removed]",
      "text/plain": [
       "<Figure size 432x288 with 1 Axes>"
      ]
     },
     "metadata": {},
     "output_type": "display_data"
    }
   ],
   "source": [
    "ax = (dp<0).value_counts().plot.pie(subplots=True,labels=[\">= 0\",\"< 0\"] ,autopct='%1.1f%%')\n"
   ]
  },
  {
   "cell_type": "code",
   "execution_count": 94,
   "metadata": {},
   "outputs": [
    {
     "data": {
      "text/plain": [
       "array([<matplotlib.axes._subplots.AxesSubplot object at 0x7f47f31215d0>],\n",
       "      dtype=object)"
      ]
     },
     "execution_count": 94,
     "metadata": {},
     "output_type": "execute_result"
    },
    {
     "data": {
      "image/png": "[encoded data removed]",
      "text/plain": [
       "<Figure size 432x288 with 1 Axes>"
      ]
     },
     "metadata": {},
     "output_type": "display_data"
    }
   ],
   "source": [
    "(dp<0).value_counts().plot.pie(subplots=True,labels=[\">= 0\",\"< 0\"],title=\"Countries with decrease in Co2 per capita \",autopct='%1.1f%%')"
   ]
  },
  {
   "cell_type": "code",
   "execution_count": null,
   "metadata": {},
   "outputs": [],
   "source": []
  }
 ],
 "metadata": {
  "kernelspec": {
   "display_name": "Python 3",
   "language": "python",
   "name": "python3"
  },
  "language_info": {
   "codemirror_mode": {
    "name": "ipython",
    "version": 3
   },
   "file_extension": ".py",
   "mimetype": "text/x-python",
   "name": "python",
   "nbconvert_exporter": "python",
   "pygments_lexer": "ipython3",
   "version": "3.7.6"
  }
 },
 "nbformat": 4,
 "nbformat_minor": 4
}
